{
 "cells": [
  {
   "cell_type": "markdown",
   "metadata": {
    "id": "Te3wEvsYmPTv"
   },
   "source": [
    "# Estadistica descriptiva para variables cualitativas\n",
    "\n",
    "\n",
    "*   Gráficos para datos univariados cualitativas\n",
    "*   Proporciones asociadas a los valores de una variable cualitativa\n",
    "\n",
    "\n"
   ]
  },
  {
   "cell_type": "code",
   "execution_count": 68,
   "metadata": {
    "scrolled": true
   },
   "outputs": [],
   "source": [
    "import pandas as pd\n",
    "import io\n",
    "df = pd.read_csv(r\"C:\\Users\\juanp\\Nacimientos2023.csv\", encoding='latin1')\n"
   ]
  },
  {
   "cell_type": "code",
   "execution_count": 69,
   "metadata": {},
   "outputs": [
    {
     "data": {
      "text/html": [
       "<div>\n",
       "<style scoped>\n",
       "    .dataframe tbody tr th:only-of-type {\n",
       "        vertical-align: middle;\n",
       "    }\n",
       "\n",
       "    .dataframe tbody tr th {\n",
       "        vertical-align: top;\n",
       "    }\n",
       "\n",
       "    .dataframe thead th {\n",
       "        text-align: right;\n",
       "    }\n",
       "</style>\n",
       "<table border=\"1\" class=\"dataframe\">\n",
       "  <thead>\n",
       "    <tr style=\"text-align: right;\">\n",
       "      <th></th>\n",
       "      <th>COD_DPTO</th>\n",
       "      <th>COD_MUNIC</th>\n",
       "      <th>AREANAC</th>\n",
       "      <th>SIT_PARTO</th>\n",
       "      <th>OTRO_SIT</th>\n",
       "      <th>SEXO</th>\n",
       "      <th>PESO_NAC</th>\n",
       "      <th>TALLA_NAC</th>\n",
       "      <th>ANO</th>\n",
       "      <th>MES</th>\n",
       "      <th>...</th>\n",
       "      <th>N_HIJOSV</th>\n",
       "      <th>FECHA_NACM</th>\n",
       "      <th>N_EMB</th>\n",
       "      <th>SEG_SOCIAL</th>\n",
       "      <th>IDCLASADMI</th>\n",
       "      <th>EDAD_PADRE</th>\n",
       "      <th>NIV_EDUP</th>\n",
       "      <th>ULTCURPAD</th>\n",
       "      <th>PROFESION</th>\n",
       "      <th>TIPOFORMULARIO</th>\n",
       "    </tr>\n",
       "  </thead>\n",
       "  <tbody>\n",
       "    <tr>\n",
       "      <th>0</th>\n",
       "      <td>23</td>\n",
       "      <td>417</td>\n",
       "      <td>1</td>\n",
       "      <td>1</td>\n",
       "      <td>NaN</td>\n",
       "      <td>1</td>\n",
       "      <td>8</td>\n",
       "      <td>5</td>\n",
       "      <td>2023</td>\n",
       "      <td>1</td>\n",
       "      <td>...</td>\n",
       "      <td>2</td>\n",
       "      <td>25/09/2015</td>\n",
       "      <td>2</td>\n",
       "      <td>2</td>\n",
       "      <td>2.0</td>\n",
       "      <td>44</td>\n",
       "      <td>99</td>\n",
       "      <td>99</td>\n",
       "      <td>1.0</td>\n",
       "      <td>1</td>\n",
       "    </tr>\n",
       "    <tr>\n",
       "      <th>1</th>\n",
       "      <td>11</td>\n",
       "      <td>1</td>\n",
       "      <td>1</td>\n",
       "      <td>1</td>\n",
       "      <td>NaN</td>\n",
       "      <td>2</td>\n",
       "      <td>6</td>\n",
       "      <td>4</td>\n",
       "      <td>2023</td>\n",
       "      <td>2</td>\n",
       "      <td>...</td>\n",
       "      <td>1</td>\n",
       "      <td>NaN</td>\n",
       "      <td>1</td>\n",
       "      <td>1</td>\n",
       "      <td>1.0</td>\n",
       "      <td>35</td>\n",
       "      <td>11</td>\n",
       "      <td>3</td>\n",
       "      <td>1.0</td>\n",
       "      <td>1</td>\n",
       "    </tr>\n",
       "    <tr>\n",
       "      <th>2</th>\n",
       "      <td>11</td>\n",
       "      <td>1</td>\n",
       "      <td>1</td>\n",
       "      <td>1</td>\n",
       "      <td>NaN</td>\n",
       "      <td>1</td>\n",
       "      <td>6</td>\n",
       "      <td>4</td>\n",
       "      <td>2023</td>\n",
       "      <td>7</td>\n",
       "      <td>...</td>\n",
       "      <td>1</td>\n",
       "      <td>NaN</td>\n",
       "      <td>1</td>\n",
       "      <td>1</td>\n",
       "      <td>1.0</td>\n",
       "      <td>32</td>\n",
       "      <td>9</td>\n",
       "      <td>6</td>\n",
       "      <td>1.0</td>\n",
       "      <td>1</td>\n",
       "    </tr>\n",
       "    <tr>\n",
       "      <th>3</th>\n",
       "      <td>11</td>\n",
       "      <td>1</td>\n",
       "      <td>1</td>\n",
       "      <td>1</td>\n",
       "      <td>NaN</td>\n",
       "      <td>1</td>\n",
       "      <td>6</td>\n",
       "      <td>5</td>\n",
       "      <td>2023</td>\n",
       "      <td>2</td>\n",
       "      <td>...</td>\n",
       "      <td>1</td>\n",
       "      <td>NaN</td>\n",
       "      <td>1</td>\n",
       "      <td>1</td>\n",
       "      <td>1.0</td>\n",
       "      <td>34</td>\n",
       "      <td>9</td>\n",
       "      <td>5</td>\n",
       "      <td>1.0</td>\n",
       "      <td>1</td>\n",
       "    </tr>\n",
       "    <tr>\n",
       "      <th>4</th>\n",
       "      <td>11</td>\n",
       "      <td>1</td>\n",
       "      <td>1</td>\n",
       "      <td>1</td>\n",
       "      <td>NaN</td>\n",
       "      <td>1</td>\n",
       "      <td>6</td>\n",
       "      <td>5</td>\n",
       "      <td>2023</td>\n",
       "      <td>10</td>\n",
       "      <td>...</td>\n",
       "      <td>2</td>\n",
       "      <td>16/05/2021</td>\n",
       "      <td>2</td>\n",
       "      <td>1</td>\n",
       "      <td>1.0</td>\n",
       "      <td>37</td>\n",
       "      <td>10</td>\n",
       "      <td>2</td>\n",
       "      <td>1.0</td>\n",
       "      <td>1</td>\n",
       "    </tr>\n",
       "  </tbody>\n",
       "</table>\n",
       "<p>5 rows × 39 columns</p>\n",
       "</div>"
      ],
      "text/plain": [
       "   COD_DPTO  COD_MUNIC  AREANAC  SIT_PARTO OTRO_SIT  SEXO  PESO_NAC  \\\n",
       "0        23        417        1          1      NaN     1         8   \n",
       "1        11          1        1          1      NaN     2         6   \n",
       "2        11          1        1          1      NaN     1         6   \n",
       "3        11          1        1          1      NaN     1         6   \n",
       "4        11          1        1          1      NaN     1         6   \n",
       "\n",
       "   TALLA_NAC   ANO  MES  ...  N_HIJOSV  FECHA_NACM  N_EMB  SEG_SOCIAL  \\\n",
       "0          5  2023    1  ...         2  25/09/2015      2           2   \n",
       "1          4  2023    2  ...         1         NaN      1           1   \n",
       "2          4  2023    7  ...         1         NaN      1           1   \n",
       "3          5  2023    2  ...         1         NaN      1           1   \n",
       "4          5  2023   10  ...         2  16/05/2021      2           1   \n",
       "\n",
       "   IDCLASADMI  EDAD_PADRE  NIV_EDUP  ULTCURPAD  PROFESION  TIPOFORMULARIO  \n",
       "0         2.0          44        99         99        1.0               1  \n",
       "1         1.0          35        11          3        1.0               1  \n",
       "2         1.0          32         9          6        1.0               1  \n",
       "3         1.0          34         9          5        1.0               1  \n",
       "4         1.0          37        10          2        1.0               1  \n",
       "\n",
       "[5 rows x 39 columns]"
      ]
     },
     "execution_count": 69,
     "metadata": {},
     "output_type": "execute_result"
    }
   ],
   "source": [
    "df.head(5)"
   ]
  },
  {
   "cell_type": "code",
   "execution_count": 70,
   "metadata": {
    "colab": {
     "base_uri": "https://localhost:8080/",
     "height": 238
    },
    "id": "JQBdSazH94rS",
    "outputId": "5c0bcacb-24d6-4028-998f-a0448e3a39bd"
   },
   "outputs": [
    {
     "data": {
      "text/html": [
       "<div>\n",
       "<style scoped>\n",
       "    .dataframe tbody tr th:only-of-type {\n",
       "        vertical-align: middle;\n",
       "    }\n",
       "\n",
       "    .dataframe tbody tr th {\n",
       "        vertical-align: top;\n",
       "    }\n",
       "\n",
       "    .dataframe thead th {\n",
       "        text-align: right;\n",
       "    }\n",
       "</style>\n",
       "<table border=\"1\" class=\"dataframe\">\n",
       "  <thead>\n",
       "    <tr style=\"text-align: right;\">\n",
       "      <th></th>\n",
       "      <th>T_GES</th>\n",
       "      <th>TALLA_NAC</th>\n",
       "    </tr>\n",
       "  </thead>\n",
       "  <tbody>\n",
       "    <tr>\n",
       "      <th>0</th>\n",
       "      <td>4</td>\n",
       "      <td>5</td>\n",
       "    </tr>\n",
       "    <tr>\n",
       "      <th>1</th>\n",
       "      <td>4</td>\n",
       "      <td>4</td>\n",
       "    </tr>\n",
       "    <tr>\n",
       "      <th>2</th>\n",
       "      <td>4</td>\n",
       "      <td>4</td>\n",
       "    </tr>\n",
       "    <tr>\n",
       "      <th>3</th>\n",
       "      <td>4</td>\n",
       "      <td>5</td>\n",
       "    </tr>\n",
       "    <tr>\n",
       "      <th>4</th>\n",
       "      <td>4</td>\n",
       "      <td>5</td>\n",
       "    </tr>\n",
       "  </tbody>\n",
       "</table>\n",
       "</div>"
      ],
      "text/plain": [
       "   T_GES  TALLA_NAC\n",
       "0      4          5\n",
       "1      4          4\n",
       "2      4          4\n",
       "3      4          5\n",
       "4      4          5"
      ]
     },
     "execution_count": 70,
     "metadata": {},
     "output_type": "execute_result"
    }
   ],
   "source": [
    "tabla1 = df[[\"T_GES\", \"TALLA_NAC\"]]\n",
    "tabla1.head(5)"
   ]
  },
  {
   "cell_type": "code",
   "execution_count": 71,
   "metadata": {
    "colab": {
     "base_uri": "https://localhost:8080/",
     "height": 238
    },
    "id": "LKMlJJKdB0h9",
    "outputId": "9e36eb62-f865-4abd-9427-add56d21fc06"
   },
   "outputs": [
    {
     "data": {
      "text/html": [
       "<div>\n",
       "<style scoped>\n",
       "    .dataframe tbody tr th:only-of-type {\n",
       "        vertical-align: middle;\n",
       "    }\n",
       "\n",
       "    .dataframe tbody tr th {\n",
       "        vertical-align: top;\n",
       "    }\n",
       "\n",
       "    .dataframe thead th {\n",
       "        text-align: right;\n",
       "    }\n",
       "</style>\n",
       "<table border=\"1\" class=\"dataframe\">\n",
       "  <thead>\n",
       "    <tr style=\"text-align: right;\">\n",
       "      <th></th>\n",
       "      <th>T_GES</th>\n",
       "      <th>TALLA_NAC</th>\n",
       "    </tr>\n",
       "  </thead>\n",
       "  <tbody>\n",
       "    <tr>\n",
       "      <th>0</th>\n",
       "      <td>4</td>\n",
       "      <td>5</td>\n",
       "    </tr>\n",
       "    <tr>\n",
       "      <th>1</th>\n",
       "      <td>4</td>\n",
       "      <td>4</td>\n",
       "    </tr>\n",
       "    <tr>\n",
       "      <th>2</th>\n",
       "      <td>4</td>\n",
       "      <td>4</td>\n",
       "    </tr>\n",
       "    <tr>\n",
       "      <th>3</th>\n",
       "      <td>4</td>\n",
       "      <td>5</td>\n",
       "    </tr>\n",
       "    <tr>\n",
       "      <th>4</th>\n",
       "      <td>4</td>\n",
       "      <td>5</td>\n",
       "    </tr>\n",
       "  </tbody>\n",
       "</table>\n",
       "</div>"
      ],
      "text/plain": [
       "   T_GES  TALLA_NAC\n",
       "0      4          5\n",
       "1      4          4\n",
       "2      4          4\n",
       "3      4          5\n",
       "4      4          5"
      ]
     },
     "execution_count": 71,
     "metadata": {},
     "output_type": "execute_result"
    }
   ],
   "source": [
    "df2 = tabla1[(tabla1.T_GES < 9) & (tabla1.TALLA_NAC < 9)]\n",
    "df2.head(5)"
   ]
  },
  {
   "cell_type": "code",
   "execution_count": 72,
   "metadata": {},
   "outputs": [],
   "source": [
    "df2 = df[(df.T_GES < 9) & (df.TALLA_NAC < 9)].copy()"
   ]
  },
  {
   "cell_type": "code",
   "execution_count": 73,
   "metadata": {
    "colab": {
     "base_uri": "https://localhost:8080/",
     "height": 386
    },
    "id": "Xxbs_LcJEZaZ",
    "outputId": "ad658f90-fb54-4919-ad88-6e56aaabcd4c"
   },
   "outputs": [
    {
     "data": {
      "text/plain": [
       "0    4\n",
       "1    4\n",
       "Name: T_GES, dtype: object"
      ]
     },
     "execution_count": 73,
     "metadata": {},
     "output_type": "execute_result"
    }
   ],
   "source": [
    "df2.T_GES = df2.T_GES.astype(str)\n",
    "df2.TALLA_NAC = df2.TALLA_NAC.astype(str)\n",
    "df2.TALLA_NAC.head(2)\n",
    "df2.T_GES.head(2)\n"
   ]
  },
  {
   "cell_type": "code",
   "execution_count": 74,
   "metadata": {
    "id": "ENjCoWGoc6oo"
   },
   "outputs": [],
   "source": [
    "df2.loc[(df2.T_GES == '1'), 'T_GES'], df2.loc[(df2.T_GES == '2'), 'T_GES'], df2.loc[(df2.T_GES == '3'), 'T_GES'] = \"1 a 21\", \"22 a 27\", \"28 a 37\"\n",
    "df2.loc[(df2.T_GES == '4'), 'T_GES'], df2.loc[(df2.T_GES == '5'), 'T_GES'], df2.loc[(df2.T_GES == '6'), 'T_GES'], df2.loc[(df2.T_GES == '9'), 'T_GES'] = \"38 a 41\", \"42 y más\", \"ignorado\", \"NA\""
   ]
  },
  {
   "cell_type": "code",
   "execution_count": 75,
   "metadata": {
    "id": "yLhlgH2_CSDQ"
   },
   "outputs": [],
   "source": [
    "df2.loc[(df2.TALLA_NAC == '1'), 'TALLA_NAC'], df2.loc[(df2.TALLA_NAC == '2'), 'TALLA_NAC'], df2.loc[(df2.TALLA_NAC == '3'), 'TALLA_NAC'] = \"Menos de 20\", \"20 a 29\", \"30 a 39\"\n",
    "df2.loc[(df2.TALLA_NAC == '4'), 'TALLA_NAC'], df2.loc[(df2.TALLA_NAC == '5'), 'TALLA_NAC'], df2.loc[(df2.TALLA_NAC == '6'), 'TALLA_NAC'], df2.loc[(df2.TALLA_NAC == '9'), 'TALLA_NAC'] = \"40 a 49\", \"50 a 59\", \"60 y más\", \"NA\""
   ]
  },
  {
   "cell_type": "code",
   "execution_count": 77,
   "metadata": {
    "colab": {
     "base_uri": "https://localhost:8080/",
     "height": 482
    },
    "id": "T0vpbDLRaXpL",
    "outputId": "6fee868c-293e-4d4e-c9e5-927e41ec6274"
   },
   "outputs": [
    {
     "data": {
      "image/png": "[encoded data removed]",
      "text/plain": [
       "<Figure size 640x480 with 1 Axes>"
      ]
     },
     "metadata": {},
     "output_type": "display_data"
    }
   ],
   "source": [
    "import matplotlib.pyplot as plt\n",
    "x_values = df2.T_GES.unique()\n",
    "y_values = df2.T_GES.value_counts().tolist()\n",
    "y_values\n",
    "plt.bar(x_values, y_values, color=\"purple\")\n",
    "plt.title(\"Rango de tiempo de gestación\")\n",
    "ax = plt.subplot() # Axis\n",
    "ax.set_xlabel(\"semanas de gestación\")\n",
    "ax.set_ylabel(\"Nacidos vivos\")\n",
    "plt.show()"
   ]
  },
  {
   "cell_type": "markdown",
   "metadata": {
    "id": "tG31d6DDmkXd"
   },
   "source": [
    "El grupo con mayor frecuencia corresponde a los nacimientos ocurridos entre las 38 y 41 semanas de gestación, con aproximadamente 372,000 nacidos vivos, el segundo grupo más numeroso es el de 28 a 37 semanas, con cerca de 134,646 nacidos vivos, los nacimientos después de las 42 semanas de gestación son muy pocos, con solo 483 casos de nacidos vivos. Por otro lado, los partos extremadamente prematuros, entre 22 y 27 semanas, reportan 1,959 nacidos vivos, en edades gestacionales inferiores a 22 semanas, apenas se observan 19 nacidos vivos y además, existen 6,337 registros donde la edad gestacional no fue reportada."
   ]
  },
  {
   "cell_type": "code",
   "execution_count": 56,
   "metadata": {
    "colab": {
     "base_uri": "https://localhost:8080/"
    },
    "id": "tdHYduIWhD-o",
    "outputId": "59c6f652-0d4d-4bbb-9115-49b530634a1d"
   },
   "outputs": [
    {
     "data": {
      "text/plain": [
       "array([371090, 134513,   1950,    778,    477,     19])"
      ]
     },
     "execution_count": 56,
     "metadata": {},
     "output_type": "execute_result"
    }
   ],
   "source": [
    "import numpy as np\n",
    "sizes = np.array(y_values)\n",
    "sizes"
   ]
  },
  {
   "cell_type": "code",
   "execution_count": 78,
   "metadata": {
    "colab": {
     "base_uri": "https://localhost:8080/",
     "height": 576
    },
    "id": "4M0a3-G-h3_U",
    "outputId": "de339f23-38d1-4758-9457-1f4752d7efe4"
   },
   "outputs": [
    {
     "data": {
      "text/plain": [
       "<function matplotlib.pyplot.show(close=None, block=None)>"
      ]
     },
     "execution_count": 78,
     "metadata": {},
     "output_type": "execute_result"
    },
    {
     "data": {
      "image/png": "[encoded data removed]",
      "text/plain": [
       "<Figure size 640x480 with 1 Axes>"
      ]
     },
     "metadata": {},
     "output_type": "display_data"
    }
   ],
   "source": [
    "plt.pie(y_values, labels = x_values, autopct=\"%1.1f%%\")\n",
    "plt.show"
   ]
  },
  {
   "cell_type": "code",
   "execution_count": 58,
   "metadata": {
    "colab": {
     "base_uri": "https://localhost:8080/"
    },
    "id": "RVNNKxwxkAV_",
    "outputId": "134422e0-b064-407e-db5d-bde7e9ee61fa"
   },
   "outputs": [
    {
     "name": "stdout",
     "output_type": "stream",
     "text": [
      "['38 a 41' '28 a 37' '42 y más' '22 a 27' 'ignorado' '1 a 21']\n",
      "[72.93048521403149, 26.43590061062011, 0.383234380251048, 0.1529006911975976, 0.09374502532294866, 0.003734078576805083]\n"
     ]
    }
   ],
   "source": [
    "porcentaje = [(x/len(df2.T_GES)*100)for x in y_values]\n",
    "print(x_values)\n",
    "print(porcentaje)"
   ]
  },
  {
   "cell_type": "markdown",
   "metadata": {
    "id": "vuLW1mARymdL"
   },
   "source": [
    "Aproximadamente el 72.1% de los nacidos vivos en Colombia están registrados de la semana 38 a 41 de gestación, siguiendo los nacidos vivos registrados de la semana 28 a 37 representan aproximadamente el 26.4%, y despues de esto los nacidos vivos registrados desde la semana 42 en adelante representa sólo aproximadamente el 0.38%. De la semana 22 a 27 representan sólo aproximadamente el 0.15%, en los que no están registrado en una semana exacta de nacimiento representan aproximadamente el 0.9% y por último, los nacidos vivos nacidos de la semana 1 a 21 representan nada más el 0.003%."
   ]
  },
  {
   "cell_type": "code",
   "execution_count": 79,
   "metadata": {
    "colab": {
     "base_uri": "https://localhost:8080/",
     "height": 481
    },
    "id": "dVthyp33JamR",
    "outputId": "8fcafd47-cbae-4af4-fa72-7e9f21c748cd",
    "scrolled": true
   },
   "outputs": [
    {
     "data": {
      "image/png": "[encoded data removed]",
      "text/plain": [
       "<Figure size 640x480 with 1 Axes>"
      ]
     },
     "metadata": {},
     "output_type": "display_data"
    }
   ],
   "source": [
    "import matplotlib.pyplot as plt\n",
    "x_values1 = df2.TALLA_NAC.unique()\n",
    "y_values1 = df2.TALLA_NAC.value_counts().tolist()\n",
    "y_values\n",
    "plt.bar(x_values1, y_values1, color=\"pink\")\n",
    "plt.title(\"Talla del nacido vivo\")\n",
    "ax = plt.subplot() # Axis\n",
    "ax.set_xlabel(\"Talla\")\n",
    "ax.set_ylabel(\"Nacidos vivos\")\n",
    "plt.show()"
   ]
  },
  {
   "cell_type": "markdown",
   "metadata": {
    "id": "nI0F8bFDJ6yX"
   },
   "source": [
    "Aproximadamente 267000 de los nacidos vivos tienen una talla entre los 50 a 59 cm representando la mayoría de ellos, siguiendo aproximadamente 236000 nacidos vivos con una talla entre los 40 a 49 cm, y quedando la minoría con 5075 nacidos vivos con una talla entre los 30 y 39 cm, \t307 nacidos vivos con una talla entre los 20 a 29 cm y siendo casi nulos, 20 nacieron con una talla mayor de 60 cm y 4 nacieron con una talla menor de 20 cm."
   ]
  },
  {
   "cell_type": "code",
   "execution_count": 60,
   "metadata": {
    "colab": {
     "base_uri": "https://localhost:8080/"
    },
    "id": "4v01oRScPnNP",
    "outputId": "14753e55-1ccd-48d4-f297-22a57c0ff200"
   },
   "outputs": [
    {
     "data": {
      "text/plain": [
       "array([267220, 236205,   5071,    307,     20,      4])"
      ]
     },
     "execution_count": 60,
     "metadata": {},
     "output_type": "execute_result"
    }
   ],
   "source": [
    "sizes = np.array(y_values1)\n",
    "sizes"
   ]
  },
  {
   "cell_type": "code",
   "execution_count": 61,
   "metadata": {
    "colab": {
     "base_uri": "https://localhost:8080/",
     "height": 576
    },
    "id": "sEcZIuAmPvfp",
    "outputId": "46154d16-b6b0-4e8c-e2f4-e2c3ce0465f0"
   },
   "outputs": [
    {
     "data": {
      "text/plain": [
       "<function matplotlib.pyplot.show(close=None, block=None)>"
      ]
     },
     "execution_count": 61,
     "metadata": {},
     "output_type": "execute_result"
    },
    {
     "data": {
      "image/png": "[encoded data removed]",
      "text/plain": [
       "<Figure size 640x480 with 1 Axes>"
      ]
     },
     "metadata": {},
     "output_type": "display_data"
    }
   ],
   "source": [
    "plt.pie(y_values1, labels = x_values1, autopct=\"%1.1f%%\")\n",
    "plt.show"
   ]
  },
  {
   "cell_type": "markdown",
   "metadata": {
    "id": "KX91ASU9P3tE"
   },
   "source": [
    "Es claro ver que la mayoria de los nacidos vivos están entre las tallas de 50 a 59cm representando el 52.5% y 40 a 49cm representando el 46.4%. Luego tenemos la minoría, los nacidos vivos con una talla entre 30 a 39cm representan aproximadamente el 1%, entre la talla 20 a 29 con un porcentaje de 0.06%, los que miden más de 60cm con un porcentaje aproximado de 0.004% y por último, los nacidos vivos con una talla menos a 20cm con un porcentaje aproximado de 0.0008%."
   ]
  },
  {
   "cell_type": "code",
   "execution_count": 62,
   "metadata": {
    "colab": {
     "base_uri": "https://localhost:8080/"
    },
    "id": "DymJIeRbQyw9",
    "outputId": "a822de65-def2-4dc2-f061-e38275a1bf1a"
   },
   "outputs": [
    {
     "name": "stdout",
     "output_type": "stream",
     "text": [
      "['50 a 59' '40 a 49' '30 a 39' '20 a 29' '60 y más' 'Menos de 20']\n",
      "[52.516867225992335, 46.421475275486564, 0.9966059191041355, 0.060334848583113714, 0.0039306090282158765, 0.0007861218056431753]\n"
     ]
    }
   ],
   "source": [
    "porcentaje = [(x/len(df2.TALLA_NAC)*100)for x in y_values1]\n",
    "print(x_values1)\n",
    "print(porcentaje)"
   ]
  },
  {
   "cell_type": "markdown",
   "metadata": {
    "id": "pkxpvOv60z2Z"
   },
   "source": [
    "# Tabla de contingencia\n",
    "\n",
    "*   Representación gráfica de una tabla de contingencia\n",
    "*   Proporción asociada a una tabla de contingencia\n"
   ]
  },
  {
   "cell_type": "code",
   "execution_count": 63,
   "metadata": {
    "colab": {
     "base_uri": "https://localhost:8080/",
     "height": 268
    },
    "id": "QzQh3d1UDTI3",
    "outputId": "ba378036-eb93-4c30-f4aa-4b284a2f13f0"
   },
   "outputs": [
    {
     "data": {
      "text/html": [
       "<div>\n",
       "<style scoped>\n",
       "    .dataframe tbody tr th:only-of-type {\n",
       "        vertical-align: middle;\n",
       "    }\n",
       "\n",
       "    .dataframe tbody tr th {\n",
       "        vertical-align: top;\n",
       "    }\n",
       "\n",
       "    .dataframe thead th {\n",
       "        text-align: right;\n",
       "    }\n",
       "</style>\n",
       "<table border=\"1\" class=\"dataframe\">\n",
       "  <thead>\n",
       "    <tr style=\"text-align: right;\">\n",
       "      <th>TALLA_NAC</th>\n",
       "      <th>20 a 29</th>\n",
       "      <th>30 a 39</th>\n",
       "      <th>40 a 49</th>\n",
       "      <th>50 a 59</th>\n",
       "      <th>60 y más</th>\n",
       "      <th>Menos de 20</th>\n",
       "    </tr>\n",
       "    <tr>\n",
       "      <th>T_GES</th>\n",
       "      <th></th>\n",
       "      <th></th>\n",
       "      <th></th>\n",
       "      <th></th>\n",
       "      <th></th>\n",
       "      <th></th>\n",
       "    </tr>\n",
       "  </thead>\n",
       "  <tbody>\n",
       "    <tr>\n",
       "      <th>1 a 21</th>\n",
       "      <td>11</td>\n",
       "      <td>5</td>\n",
       "      <td>0</td>\n",
       "      <td>1</td>\n",
       "      <td>0</td>\n",
       "      <td>2</td>\n",
       "    </tr>\n",
       "    <tr>\n",
       "      <th>22 a 27</th>\n",
       "      <td>251</td>\n",
       "      <td>1646</td>\n",
       "      <td>50</td>\n",
       "      <td>1</td>\n",
       "      <td>0</td>\n",
       "      <td>2</td>\n",
       "    </tr>\n",
       "    <tr>\n",
       "      <th>28 a 37</th>\n",
       "      <td>44</td>\n",
       "      <td>3357</td>\n",
       "      <td>95455</td>\n",
       "      <td>35657</td>\n",
       "      <td>0</td>\n",
       "      <td>0</td>\n",
       "    </tr>\n",
       "    <tr>\n",
       "      <th>38 a 41</th>\n",
       "      <td>0</td>\n",
       "      <td>46</td>\n",
       "      <td>140106</td>\n",
       "      <td>230919</td>\n",
       "      <td>19</td>\n",
       "      <td>0</td>\n",
       "    </tr>\n",
       "    <tr>\n",
       "      <th>42 y más</th>\n",
       "      <td>0</td>\n",
       "      <td>0</td>\n",
       "      <td>116</td>\n",
       "      <td>360</td>\n",
       "      <td>1</td>\n",
       "      <td>0</td>\n",
       "    </tr>\n",
       "    <tr>\n",
       "      <th>ignorado</th>\n",
       "      <td>1</td>\n",
       "      <td>17</td>\n",
       "      <td>478</td>\n",
       "      <td>282</td>\n",
       "      <td>0</td>\n",
       "      <td>0</td>\n",
       "    </tr>\n",
       "  </tbody>\n",
       "</table>\n",
       "</div>"
      ],
      "text/plain": [
       "TALLA_NAC  20 a 29  30 a 39  40 a 49  50 a 59  60 y más  Menos de 20\n",
       "T_GES                                                               \n",
       "1 a 21          11        5        0        1         0            2\n",
       "22 a 27        251     1646       50        1         0            2\n",
       "28 a 37         44     3357    95455    35657         0            0\n",
       "38 a 41          0       46   140106   230919        19            0\n",
       "42 y más         0        0      116      360         1            0\n",
       "ignorado         1       17      478      282         0            0"
      ]
     },
     "execution_count": 63,
     "metadata": {},
     "output_type": "execute_result"
    }
   ],
   "source": [
    "tabla_cont = pd.crosstab(df2[\"T_GES\"], df2.TALLA_NAC)\n",
    "tabla_cont\n"
   ]
  },
  {
   "cell_type": "code",
   "execution_count": 64,
   "metadata": {
    "colab": {
     "base_uri": "https://localhost:8080/",
     "height": 650
    },
    "id": "HQJRSHuzDfkB",
    "outputId": "0259d168-e3fe-4d86-c34b-391ba355e1a1"
   },
   "outputs": [
    {
     "data": {
      "text/plain": [
       "<Axes: xlabel='TALLA_NAC', ylabel='T_GES'>"
      ]
     },
     "execution_count": 64,
     "metadata": {},
     "output_type": "execute_result"
    },
    {
     "data": {
      "image/png": "[encoded data removed]",
      "text/plain": [
       "<Figure size 600x600 with 2 Axes>"
      ]
     },
     "metadata": {},
     "output_type": "display_data"
    }
   ],
   "source": [
    "import seaborn as sns\n",
    "sns.set(style=\"whitegrid\")\n",
    "plt.figure(figsize=(6,6))\n",
    "sns.heatmap(tabla_cont, annot=True, fmt=\"d\", cmap=\"YlGnBu\", cbar=True)"
   ]
  },
  {
   "cell_type": "markdown",
   "metadata": {
    "id": "9Ycy4k9IF3_7"
   },
   "source": [
    "Bajo la información obtenida en esta tabla de contingencia, podemos observar que del total de nacimientos registrados, aproximadamente el 45.4 % corresponde a bebés cuya talla al nacer estuvo entre 50 y 59 cm, y cuyo tiempo de gestación fue de 38 a 41 semanas, siendo este el grupo con mayor frecuencia de nacidos vivos en Colombia:\n",
    "\n",
    "$P(\\text{TALLA_NAC} = 50\\text{ a }59 \\cap \\text{T_GES} = 38\\text{ a }41) = \\frac{230919}{508827} \\approx 0.454 \\text{ o } 45.4%$\n",
    "\n",
    "así mismo, el segundo registro más alto de nacidos vivos en colombia está nuevamente en las semanas 38 a 41, pero en la talla de 40 a 49 cm con un porcentaje aproximado de 0.28%.\n",
    "\n",
    "$P(\\text{TALLA_NAC} = 40\\text{ a }49 \\cap \\text{T_GES} = 38\\text{ a }41) = \\frac{140106}{508827} \\approx 0,2753 \\text{ o } 27.53%$\n",
    "\n",
    "Esto plantea la pregunta: ¿cuál es la probabilidad de que un bebé nacido entre las semanas 38 y 41 tenga una talla extremadamente baja (entre 30 y 39 cm), o excepcionalmente alta (mayor o igual a 60 cm)?\n",
    "\n",
    "Estas probabilidades se determinan mediante probabilidad condicional:\n",
    "\n",
    "$P(\\text{TALLA_NAC} = 30\\text{ a }39 | \\text{GES} = 38\\text{ a }41) = \\frac{46}{371090} \\approx 0.000124 \\text{ o } 0.00124%$\n",
    "\n",
    "\"GES 38 a 41\" es la suma de todos los Nacidos vivos en estas semanas, con un total de 371090\n",
    "\n",
    "$P(\\text{TALLA_NAC} = 60\\text{ y }más | \\text{GES} = 38\\text{ a }41) = \\frac{19}{371090} \\approx 0.5120x10^{-15} \\text{ o } 5.150x10^{-16}%.$\n",
    "\n",
    "En conclusión, se observa que menos del 0.02% de los nacidos vivos en este rango de gestación tienen tallas entre 30 y 39 cm, y que tan solo un 0.005 % supera los 60 cm. Estos valores reflejan eventos altamente improbables y pueden considerarse casos extremos, que en conjunto representan menos del 1 % del total de nacidos vivos en estas semanas."
   ]
  },
  {
   "cell_type": "code",
   "execution_count": 65,
   "metadata": {
    "colab": {
     "base_uri": "https://localhost:8080/"
    },
    "id": "8k_VCnbFFdns",
    "outputId": "c611b459-5357-4fa6-fa75-90c8a61a8a57"
   },
   "outputs": [
    {
     "data": {
      "text/plain": [
       "508827"
      ]
     },
     "execution_count": 65,
     "metadata": {},
     "output_type": "execute_result"
    }
   ],
   "source": [
    "len(df2.T_GES)\n",
    "len(df2.TALLA_NAC)"
   ]
  },
  {
   "cell_type": "code",
   "execution_count": 66,
   "metadata": {
    "colab": {
     "base_uri": "https://localhost:8080/"
    },
    "id": "C4n9pEwyYZlv",
    "outputId": "744db2b4-62ff-403e-b57a-3a551c700b41"
   },
   "outputs": [
    {
     "name": "stdout",
     "output_type": "stream",
     "text": [
      "El valor de la estadística chi cuadrado es 283302.7467337463 y el valor p es d 0.0\n"
     ]
    }
   ],
   "source": [
    "import scipy.stats as stats\n",
    "res = stats.chi2_contingency(tabla_cont)\n",
    "chi, valor_p, _, _ = res\n",
    "print(f\"El valor de la estadística chi cuadrado es {chi} y el valor p es d {valor_p}\")"
   ]
  },
  {
   "cell_type": "markdown",
   "metadata": {
    "id": "e0BrK5jfauxR"
   },
   "source": [
    "\n",
    "*   Si el valor p < 0.05 se rechaza la hipótesis nula\n",
    "*   Si el valor p > 0.05 no se rechaza la hipótesis nula\n",
    "\n",
    "Dado que el valor p obtenido es $p = 0.0$ y este es menor que el nivel de significancia $\\alpha = 0.05$, se **rechaza la hipótesis nula**. Esto indica que existe **una asociación estadísticamente significativa** entre la **talla al nacer** y el **tiempo de gestación**. En otras palabras, los datos muestran evidencia suficiente para concluir, con un nivel de confianza del 95%, que estas dos variables **no son independientes**.\n",
    "\n"
   ]
  },
  {
   "cell_type": "code",
   "execution_count": 67,
   "metadata": {
    "colab": {
     "base_uri": "https://localhost:8080/"
    },
    "id": "JEvU_vDkfZWN",
    "outputId": "2b6e9216-3139-487e-c973-58687b437c09"
   },
   "outputs": [
    {
     "name": "stdout",
     "output_type": "stream",
     "text": [
      "los coeficientes de contingencia, Phi y V de Cramer están respetivamente dados por 0.5980358668183134, 0.7461743542999918, 0.3336993158563588\n"
     ]
    }
   ],
   "source": [
    "import math\n",
    "coeficiente_contingencia = math.sqrt(chi/(chi + len(df2.TALLA_NAC)))\n",
    "coeficiente_phi = math.sqrt(chi/len(df2.TALLA_NAC))\n",
    "coeficiente_v_cramer = math.sqrt(chi/(len(df2.TALLA_NAC)*min(6-1, 6-1)))\n",
    "print(f\"los coeficientes de contingencia, Phi y V de Cramer están respetivamente dados por {coeficiente_contingencia}, {coeficiente_phi}, {coeficiente_v_cramer}\")"
   ]
  },
  {
   "cell_type": "markdown",
   "metadata": {
    "id": "SGEDADRrnTro"
   },
   "source": [
    "De acuerdo con los criterios de interpretación propuestos por Landis y Koch (1977), los coeficientes obtenidos para evaluar la asociación entre **la talla del bebé** y **el tiempo de gestación** indican una relación **moderada a sustancial**:\n",
    "\n",
    "\n",
    "*   El coeficiente de contingencia es $C$ = 0.598, lo que sugiere una **asociación moderada** $(0.4 < C < 0.6)$.\n",
    "*   El coeficiente Phi es ($ \\phi$) = 0.746, ubicándose en el rango de una **asociación sustancial** $(0.6 < \\phi < 0.8)$.\n",
    "*   El coeficiente $V$ de Cramer es $V$ = 0.334, lo que indica una **asociación moderada** $(0.2 < V < 0.4)$.\n",
    "\n",
    "En otras palabras,\n",
    "\n",
    "*   La **talla del bebé** depende **moderadamente** del **tiempo de gestación**.\n",
    "*  Las variables no son **completamente homogéneas**; presentan una **asociación parcial**.\n",
    "*   En conjunto, **la talla del bebé** y **el tiempo de gestación** están **moderadamente asociadas**, aunque no de **forma fuerte o determinante**.\n"
   ]
  },
  {
   "cell_type": "markdown",
   "metadata": {
    "id": "YBdD-Pv-UpDv"
   },
   "source": [
    "* **¿Cómo se comporta la variable tiempo de gestación de un nacido vivo en Colombia (T_GES)?**\n",
    "\n",
    "El análisis al **tiempo de gestación**, revela una marcada concentración de casos en el intervalo comprendido entre las **38 y las 41 semanas** de gestación. Este rango específico es muy relevante, ya que cubre **la mayoría** de los nacimientos vivos que ocurren en Colombia. De manera más precisa, los datos indican que **aproximadamente el 90%** de los nacidos vivos en el país se registran dentro de este periodo de gestación. Este hallazgo subraya de forma contundente que la vasta mayoría de los nacimientos en Colombia se producen dentro de lo que se considera una gestación a término, lo cual es un indicador positivo de salud materno-infantil.\n",
    "\n",
    "* **¿Cómo se comporta la variable talla de nacimiento de un nacido vivo en Colombia (TALLA_NAC)?**\n",
    "\n",
    "Al examinar **la talla** de los recién nacidos en Colombia, se observa también una distribución **marcadamente concentrada**. La mayor proporción de casos se sitúa  en el rango de **50 a 59 centímetros**, abarcando **aproximadamente el 45.4%** del total de los nacidos vivos en Colombia. A este intervalo principal le sucede, el rango de **40 a 49 centímetros** abarcando **aproximadamente un 46.4%**. Sin embargo, es importante destacar que los próximos intervalos presentan porcentajes **considerablemente menores** en comparación con el rango principal. Esta distribución sugiere de manera contundente que la talla más frecuente al nacer se encuentra entre los **50 y 59 centímetros**, lo cual, en términos generales, se correlaciona con nacimientos considerados normales y saludables.\n",
    "\n",
    "* **¿Alguna variable depende de la otra, o, están asociadas? ¿Qué tan dependiente es una variable de la otra o qué tan asociadas están ambas?**\n",
    "\n",
    "Ciertamente, sí, los análisis estadísticos realizados confirman la existencia de una asociación de **carácter moderado** entre las dos variables en estudio. Los coeficientes de asociación obtenidos arrojan los siguientes resultados:\n",
    "\n",
    "\n",
    "*   **Coeficiente de Contingencia**: Con un valor de 0.598 para este coeficiente sugiere una **relación moderada** entre las variables.\n",
    "*   **Coeficiente Phi**: Un valor de 0.746 para este coeficiente indica una **asociación sustancial**, lo que implica una relación más pronunciada entre las categorías de las variables.\n",
    "*   **Coeficiente V de Cramer**: El valor de 0.334 para este coeficiente refuerza la noción de una **asociación moderada**, siendo una medida útil para tablas de contingencia de mayor tamaño.\n",
    "\n",
    "La talla del recién nacido muestra una relación moderada con el tiempo de gestación: a mayor tiempo, suele observarse una mayor talla. Sin embargo, esta relación no es estricta ni suficiente por sí sola, lo que sugiere que pueden intervenir otros factores además del tiempo de gestación.\n",
    "\n"
   ]
  },
  {
   "cell_type": "code",
   "execution_count": null,
   "metadata": {},
   "outputs": [],
   "source": []
  }
 ],
 "metadata": {
  "colab": {
   "provenance": []
  },
  "kernelspec": {
   "display_name": "Python [conda env:base] *",
   "language": "python",
   "name": "conda-base-py"
  },
  "language_info": {
   "codemirror_mode": {
    "name": "ipython",
    "version": 3
   },
   "file_extension": ".py",
   "mimetype": "text/x-python",
   "name": "python",
   "nbconvert_exporter": "python",
   "pygments_lexer": "ipython3",
   "version": "3.12.7"
  }
 },
 "nbformat": 4,
 "nbformat_minor": 4
}
